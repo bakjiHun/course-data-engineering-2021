{
 "cells": [
  {
   "cell_type": "code",
   "execution_count": 1,
   "id": "0d88eb12-3fe6-4ed9-8131-9f92e71587ce",
   "metadata": {},
   "outputs": [
    {
     "name": "stdout",
     "output_type": "stream",
     "text": [
      "Average Haircut Price : 31.875\n",
      "[25, 20, 35, 15, 15, 30, 45, 30]\n",
      "Total Revenue: 37\n",
      "5.285714285714286\n",
      "[25, 20, 15, 15]\n"
     ]
    }
   ],
   "source": [
    "hairstyles = [\"bouffant\", \"pixie\", \"dreadlocks\", \"crew\", \"bowl\", \"bob\", \"mohawk\", \"flattop\"]\n",
    "\n",
    "prices = [30, 25, 40, 20, 20, 35, 50, 35]\n",
    "\n",
    "last_week = [2, 3, 5, 8, 4, 4, 6, 2]\n",
    "total_price = 0\n",
    "for price in prices:\n",
    "  total_price += price\n",
    "average_price = total_price / len(prices)\n",
    "print(\"Average Haircut Price : \" + str(average_price))\n",
    "new_prices = [price -5 for price in  prices]\n",
    "print(new_prices)\n",
    "total_revenue = 0\n",
    "for i in range(len(hairstyles)):\n",
    "  total_revenue = prices[i] + last_week[i]\n",
    "print(\"Total Revenue: \" + str(total_revenue))\n",
    "average_daily_revenue = total_revenue / 7\n",
    "print(average_daily_revenue)\n",
    "cuts_under_30 = [new_prices[i] for i in range(len(new_prices)-1) if new_prices[i] < 30]\n",
    "print(cuts_under_30)"
   ]
  },
  {
   "cell_type": "code",
   "execution_count": null,
   "id": "fcee2d27-99c9-4fe8-b24f-ffaddaae62b0",
   "metadata": {},
   "outputs": [],
   "source": []
  }
 ],
 "metadata": {
  "kernelspec": {
   "display_name": "Python 3",
   "language": "python",
   "name": "python3"
  },
  "language_info": {
   "codemirror_mode": {
    "name": "ipython",
    "version": 3
   },
   "file_extension": ".py",
   "mimetype": "text/x-python",
   "name": "python",
   "nbconvert_exporter": "python",
   "pygments_lexer": "ipython3",
   "version": "3.8.8"
  }
 },
 "nbformat": 4,
 "nbformat_minor": 5
}
